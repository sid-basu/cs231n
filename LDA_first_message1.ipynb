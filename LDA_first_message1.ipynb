{
 "cells": [
  {
   "cell_type": "code",
   "execution_count": 2,
   "metadata": {
    "collapsed": false
   },
   "outputs": [],
   "source": [
    "import airpy as ap\n",
    "import numpy as np\n",
    "import pandas as pd\n",
    "import gensim\n",
    "import nltk\n",
    "from nltk.corpus import stopwords\n",
    "from gensim import corpora\n",
    "from gensim import models\n",
    "import pyLDAvis.gensim\n",
    "import csv\n",
    "import feather\n",
    "import random"
   ]
  },
  {
   "cell_type": "code",
   "execution_count": 3,
   "metadata": {
    "collapsed": false
   },
   "outputs": [],
   "source": [
    "#get common names list from disk\n",
    "path_names = '~/data/first_message_text_names.csv'\n",
    "common_names = list(pd.read_csv(path_names)['dim_first_name'])\n",
    "\n",
    "#get message text from disk\n",
    "path_messages = '~/data/first_message_text_lower.csv'\n",
    "df1 = pd.DataFrame(pd.read_csv(path_messages)['message_text_lower'].dropna())"
   ]
  },
  {
   "cell_type": "code",
   "execution_count": 4,
   "metadata": {
    "collapsed": false
   },
   "outputs": [
    {
     "name": "stdout",
     "output_type": "stream",
     "text": [
      "common names done\n",
      "tokenization done\n"
     ]
    }
   ],
   "source": [
    "#build documents list (remember to drop na's)\n",
    "documents = []\n",
    "for index, row in df1.iterrows():\n",
    "    documents.append(row.message_text_lower)\n",
    "    \n",
    "#generate a stoplist\n",
    "stoplist = stopwords.words('english')\n",
    "stoplist += common_names\n",
    "\n",
    "print 'common names done'\n",
    "\n",
    "# tokenize the text \n",
    "doc_token = [[word for word in list(gensim.utils.tokenize(document)) if word not in stoplist] for document in documents]\n",
    "\n",
    "print 'tokenization done'\n",
    "\n",
    "# build it into dictionary map\n",
    "dictionary = corpora.Dictionary(doc_token)\n",
    "\n",
    "# create the corpus for LDA \n",
    "corpus = [dictionary.doc2bow(message_text) for message_text in list(doc_token)]\n",
    "\n",
    "# convert to TD-IDF\n",
    "tfidf = models.TfidfModel(corpus)\n",
    "corpus_tfidf = tfidf[corpus]\n"
   ]
  },
  {
   "cell_type": "code",
   "execution_count": null,
   "metadata": {
    "collapsed": false
   },
   "outputs": [],
   "source": [
    "# train a LDA model\n",
    "%time \n",
    "\n",
    "lda_model_30 = gensim.models.LdaModel(corpus_tfidf, num_topics=30, alpha=0.0001, id2word=dictionary, passes=6)\n",
    "lda_model_30.save('lda_test.model')"
   ]
  },
  {
   "cell_type": "code",
   "execution_count": 1,
   "metadata": {
    "collapsed": false
   },
   "outputs": [
    {
     "ename": "NameError",
     "evalue": "name 'models' is not defined",
     "output_type": "error",
     "traceback": [
      "\u001b[0;31m---------------------------------------------------------------------------\u001b[0m",
      "\u001b[0;31mNameError\u001b[0m                                 Traceback (most recent call last)",
      "\u001b[0;32m<ipython-input-1-ef3ffd85e916>\u001b[0m in \u001b[0;36m<module>\u001b[0;34m()\u001b[0m\n\u001b[0;32m----> 1\u001b[0;31m \u001b[0mlda_model_30\u001b[0m \u001b[0;34m=\u001b[0m \u001b[0mmodels\u001b[0m\u001b[0;34m.\u001b[0m\u001b[0mLdaModel\u001b[0m\u001b[0;34m.\u001b[0m\u001b[0mload\u001b[0m\u001b[0;34m(\u001b[0m\u001b[0;34m'lda_test.model'\u001b[0m\u001b[0;34m)\u001b[0m\u001b[0;34m\u001b[0m\u001b[0m\n\u001b[0m\u001b[1;32m      2\u001b[0m \u001b[0mcx_data\u001b[0m \u001b[0;34m=\u001b[0m  \u001b[0mpyLDAvis\u001b[0m\u001b[0;34m.\u001b[0m\u001b[0mgensim\u001b[0m\u001b[0;34m.\u001b[0m\u001b[0mprepare\u001b[0m\u001b[0;34m(\u001b[0m\u001b[0mlda_model_30\u001b[0m\u001b[0;34m,\u001b[0m \u001b[0mcorpus_tfidf\u001b[0m\u001b[0;34m,\u001b[0m \u001b[0mdictionary\u001b[0m\u001b[0;34m)\u001b[0m\u001b[0;34m\u001b[0m\u001b[0m\n\u001b[1;32m      3\u001b[0m \u001b[0mpyLDAvis\u001b[0m\u001b[0;34m.\u001b[0m\u001b[0mdisplay\u001b[0m\u001b[0;34m(\u001b[0m\u001b[0mcx_data\u001b[0m\u001b[0;34m)\u001b[0m\u001b[0;34m\u001b[0m\u001b[0m\n",
      "\u001b[0;31mNameError\u001b[0m: name 'models' is not defined"
     ]
    }
   ],
   "source": [
    "lda_model_30 = models.LdaModel.load('lda_test.model')\n",
    "cx_data =  pyLDAvis.gensim.prepare(lda_model_30, corpus_tfidf, dictionary)\n",
    "pyLDAvis.display(cx_data)"
   ]
  },
  {
   "cell_type": "code",
   "execution_count": 29,
   "metadata": {
    "collapsed": false
   },
   "outputs": [],
   "source": [
    "mendy = lda_model_30[corpus[13231]]"
   ]
  },
  {
   "cell_type": "code",
   "execution_count": 31,
   "metadata": {
    "collapsed": false
   },
   "outputs": [
    {
     "data": {
      "text/plain": [
       "\"hey! my names noah and i'm a musician. coming to la for 10 days to visit some friends and this would be a great place to come rest my head.\""
      ]
     },
     "execution_count": 31,
     "metadata": {},
     "output_type": "execute_result"
    }
   ],
   "source": [
    "documents[13231]"
   ]
  },
  {
   "cell_type": "code",
   "execution_count": 25,
   "metadata": {
    "collapsed": false
   },
   "outputs": [
    {
     "data": {
      "text/plain": [
       "(26, 0.12486540101425797)"
      ]
     },
     "execution_count": 25,
     "metadata": {},
     "output_type": "execute_result"
    }
   ],
   "source": [
    "mendy[[item[0] for item in mendy].index(max([item[0] for item in mendy]))]"
   ]
  },
  {
   "cell_type": "code",
   "execution_count": 28,
   "metadata": {
    "collapsed": false
   },
   "outputs": [
    {
     "data": {
      "text/plain": [
       "(15, 0.79818883615489977)"
      ]
     },
     "execution_count": 28,
     "metadata": {},
     "output_type": "execute_result"
    }
   ],
   "source": [
    "mendy[[item[1] for item in mendy].index(max([item[1] for item in mendy]))]"
   ]
  },
  {
   "cell_type": "code",
   "execution_count": 112,
   "metadata": {
    "collapsed": false
   },
   "outputs": [
    {
     "data": {
      "text/plain": [
       "0.99980718417481995"
      ]
     },
     "execution_count": 112,
     "metadata": {},
     "output_type": "execute_result"
    }
   ],
   "source": [
    "sum([item[1] for item in mendy])"
   ]
  },
  {
   "cell_type": "code",
   "execution_count": 35,
   "metadata": {
    "collapsed": false
   },
   "outputs": [
    {
     "name": "stdout",
     "output_type": "stream",
     "text": [
      "0\n",
      "4\n"
     ]
    },
    {
     "data": {
      "text/plain": [
       "13"
      ]
     },
     "execution_count": 35,
     "metadata": {},
     "output_type": "execute_result"
    }
   ],
   "source": [
    "x = [1,2,3,4,13]\n",
    "print x.index(1)\n",
    "print x.index(max(x))\n",
    "x[x.index(max(x))]"
   ]
  },
  {
   "cell_type": "code",
   "execution_count": 36,
   "metadata": {
    "collapsed": false
   },
   "outputs": [
    {
     "name": "stdout",
     "output_type": "stream",
     "text": [
      "[1, 2, 3, 4, 13]\n",
      "[1, 2, 3, 4, 13, 100]\n"
     ]
    }
   ],
   "source": [
    "print x\n",
    "x.append(100)\n",
    "print x"
   ]
  },
  {
   "cell_type": "code",
   "execution_count": 42,
   "metadata": {
    "collapsed": false
   },
   "outputs": [
    {
     "data": {
      "text/plain": [
       "'hi hugh,    my name is rani. this is my first time visiting redwood city for a meeting at stanford and was wondering if you had any availability on the night of march 22nd/23rd in your beautiful home. please let me know if i can provide any additional information in regards to the booking.    thank you!    best,  rani'"
      ]
     },
     "execution_count": 42,
     "metadata": {},
     "output_type": "execute_result"
    }
   ],
   "source": [
    "documents[192144]"
   ]
  },
  {
   "cell_type": "code",
   "execution_count": null,
   "metadata": {
    "collapsed": true
   },
   "outputs": [],
   "source": [
    "#Hyper-parameter optimization: compare likelihood on test set for different number of topics"
   ]
  },
  {
   "cell_type": "code",
   "execution_count": 43,
   "metadata": {
    "collapsed": false
   },
   "outputs": [],
   "source": [
    "#make a list of message text, what topic was the most likely for that message text\n",
    "\n",
    "random.seed(20170710)\n",
    "#sample 10000 random contacts\n",
    "n_corpus = len(corpus)\n",
    "n_sample = 10000\n",
    "\n",
    "mask = random.sample(xrange(n_corpus), n_sample)\n",
    "messages_topics = []\n",
    "\n",
    "#find the most relevant topic to each of these documents\n",
    "for i in range(n_sample):\n",
    "    #get array of topics and probabilities for document i\n",
    "    results_i = lda_model_30[corpus[mask[i]]]\n",
    "    \n",
    "    ret = results_i[[item[1] for item in results_i].index(max([item[1] for item in results_i]))]\n",
    "    \n",
    "    messages_topics.append([documents[mask[i]], ret[0], ret[1]])\n",
    "    \n",
    "    \n",
    "messages_topic_0 = [x for x in messages_topics if x[1] == 0]\n",
    "messages_topic_1 = [x for x in messages_topics if x[1] == 1]\n",
    "messages_topic_2 = [x for x in messages_topics if x[1] == 2]\n",
    "messages_topic_3 = [x for x in messages_topics if x[1] == 3]\n",
    "messages_topic_4 = [x for x in messages_topics if x[1] == 4]\n",
    "messages_topic_5 = [x for x in messages_topics if x[1] == 5]\n",
    "\n",
    "    "
   ]
  },
  {
   "cell_type": "code",
   "execution_count": 179,
   "metadata": {
    "collapsed": false
   },
   "outputs": [],
   "source": [
    "#sample messages tagged with topic 1, make a list of [message text, topic, probability of being in topic]\n",
    "random.seed(20170713)\n",
    "\n",
    "#sample 100000 random contacts\n",
    "n_corpus = len(corpus)\n",
    "n_sample = 100000\n",
    "\n",
    "mask = random.sample(xrange(n_corpus), n_sample)\n",
    "messages_topic_1 = []\n",
    "\n",
    "#find all the documents that are tagged with topic 1\n",
    "for i in range(n_sample):\n",
    "    #get array of topics and probabilities for document i\n",
    "    results_i = lda_model_30[corpus[mask[i]]]\n",
    "    #make list of [topic 1, probability of being in topic 1]\n",
    "    list_temp = [item for item in results_i if item[0] == 1]\n",
    "    #check if the topic is actually tagged\n",
    "    if len(list_temp) > 0:\n",
    "        messages_topic_1.append([documents[mask[i]], list_temp[0][0], list_temp[0][1]])\n",
    "        \n",
    "\n",
    "    \n",
    "    "
   ]
  },
  {
   "cell_type": "code",
   "execution_count": 182,
   "metadata": {
    "collapsed": false
   },
   "outputs": [
    {
     "data": {
      "text/plain": [
       "[['visiting / touring', 1, 0.50902800547025029],\n",
       " ['hello dino jose here', 1, 0.99855217174238342],\n",
       " ['masters', 1, 0.99710867397806613],\n",
       " ['we are prisca and stephanie. ', 1, 0.99710867397806613],\n",
       " ['my niece is graduating from cal state fullerton', 1, 0.5596125671132961],\n",
       " ['attending an accelerator', 1, 0.99855217174238342],\n",
       " ['hej justyna!:)    razem z mezem pawlem pochodzimy z wroclawia, gdzie zyjemy i pracujemy. przyjezdzamy z mezem do us pierwszy raz. 20 maja wracamy z miami i konczymy przygode w nowym yorku:) przylatujemy w okolicach 11 am, wiec pytanie czy moglibysmy sie zameldowac w okolicach 1 pm?    wracamy do polski 25 maja i lot mamy pozno bo o 9 pm. czy jest mozliwosc zostawienia bagazy abysmy mogli przed lotem przespacerowac sie jeszcze ostatni raz?:)    dziekuje z gory za odpowiedz i pozdrawiamy,  justyna & pawel',\n",
       "  1,\n",
       "  0.5842105274620164],\n",
       " ['state farm', 1, 0.99855217174238342],\n",
       " ['hi leida!', 1, 0.99855217174238342],\n",
       " ['heavyyyyyyyyyyy', 1, 0.99710867397806613],\n",
       " ['rob witty will be the guest. please email him details wittyr@leadforensics.com',\n",
       "  1,\n",
       "  0.59111651781855123],\n",
       " ['mshuman@loyalloops.com', 1, 0.99903429903429697],\n",
       " ['i <3 the jarhole', 1, 0.99710867397806613],\n",
       " ['hallo! ich bin michael  ich bin zur zeit bei freunden in sarasota und mchte 3 tage in miami am strand verbringen und einige sehenswrdigkeit besichtigen. ich reise mit meiner lebensgefhrtin. ',\n",
       "  1,\n",
       "  0.54769413760790975],\n",
       " ['raising funding on sand hill rd for our startup tanvas (www.tanvas.co).',\n",
       "  1,\n",
       "  0.60915002743778268],\n",
       " ['big chilli contest', 1, 0.66603396603396336],\n",
       " ['yunzhi\\xe4\\xbd\\xa0\\xe5\\xa5\\xbd,\\xe6\\x88\\x91\\xe6\\x98\\xaf\\xe4\\xb8\\x80\\xe4\\xbd\\x8d\\xe6\\x9d\\xa5san mateo\\xe5\\xae\\x9e\\xe4\\xb9\\xa0\\xe7\\x9a\\x84\\xe5\\xa4\\xa7\\xe5\\xad\\xa6\\xe7\\x94\\x9f.',\n",
       "  1,\n",
       "  0.99903429903429697],\n",
       " ['we are visiting for our babymoon', 1, 0.50871529446010422],\n",
       " ['heyy', 1, 0.99710867397806613],\n",
       " ['mark, working on the solar project in waseca.', 1, 0.68650194504125395],\n",
       " ['we are going to the masters.', 1, 0.99855217174238342],\n",
       " [\"duke's graduation!\", 1, 0.51526361953252087],\n",
       " ['waaaz up', 1, 0.99710867397806613],\n",
       " ['qaqqaqaqaqaqaqaqqaqaqaqaqaqaqqaqaqaqaqaqaqqaqaqaqaqaqaqqaqaqaqaqaqaqqaqaqaqaqaqaqqaqaqaqaqa',\n",
       "  1,\n",
       "  0.99710867397806613],\n",
       " ['hello, livio!  we are visiting some friends and conducting some interviews for our magazine \"rigas laiks\" (www.rigaslaiks.com).  arnis',\n",
       "  1,\n",
       "  0.53341026910240774],\n",
       " ['bhootni kay', 1, 0.99710867397806613],\n",
       " ['visiting columbia university.', 1, 0.68010405159949483],\n",
       " ['work for state farm', 1, 0.99903429903429697],\n",
       " ['touring the park', 1, 0.5022193843501831],\n",
       " ['tanglewood and other summer activities', 1, 0.58427818123414499],\n",
       " ['coming to town for sdcc', 1, 0.99903429903429697],\n",
       " ['working an event for our company malk organics', 1, 0.9994203477913266],\n",
       " ['\\xe5\\x93\\x88\\xe5\\x96\\xbd \\xe6\\x88\\x91\\xe5\\x90\\x8c\\xe5\\xad\\xa6\\xe4\\xb9\\x8b\\xe5\\x89\\x8d\\xe4\\xbd\\x8f\\xe8\\xbf\\x87\\xe4\\xbd\\xa0\\xe7\\x9a\\x84airbnb\\xe6\\x8e\\xa8\\xe8\\x8d\\x90\\xe6\\x9d\\xa5\\xe7\\x9a\\x84\\xef\\xbd\\x9e\\xe6\\xad\\xa3\\xe5\\xa5\\xbd\\xe6\\xb3\\xa2\\xe5\\xa3\\xab\\xe9\\xa1\\xbf\\xe7\\x8e\\xa9\\xe5\\xb0\\xb1\\xe6\\x9d\\xa5\\xe4\\xbd\\x8f\\xe4\\xbd\\x8f\\xe7\\x9c\\x8b\\xe5\\x95\\xa6\\xef\\xbd\\x9e',\n",
       "  1,\n",
       "  0.99903429903429697],\n",
       " ['i will be selling hats and networking at the wawa philadelphia 4th of july weekend event . ig @thebigoctober . company website thebigoctober.com',\n",
       "  1,\n",
       "  0.50543094710849656],\n",
       " ['hi! i\\xe2\\x80\\x99m sashain', 1, 0.99855217174238342],\n",
       " ['in town for pride!', 1, 0.99855217174238342],\n",
       " ['we\\xe2\\x80\\x99re visiting columbia because', 1, 0.50869751480996173],\n",
       " ['qaqa', 1, 0.99710867397806613],\n",
       " ['hi marsha, we are coming to la jolla from minneapolis to listen to my son play at the la jolla music festival. he is a classical music concert pianist.',\n",
       "  1,\n",
       "  0.51190914484246874],\n",
       " ['blah', 1, 0.99710867397806613],\n",
       " ['hi,  this will be a breif stay, but i want to be accessible to getting to my clients in the d.c area. i own three i.t companies www.sbtsgroup.com www.trainingsol.com and www,kallmania.com',\n",
       "  1,\n",
       "  0.64933483306328177],\n",
       " ['masters!!!', 1, 0.99710867397806613],\n",
       " ['\\xec\\x95\\x88\\xeb\\x85\\x95\\xed\\x95\\x98\\xec\\x84\\xb8\\xec\\x9a\\x94^^  \\xec\\x97\\x98\\xec\\x97\\x90\\xec\\x9d\\xb4\\xec\\x97\\x90 \\xea\\xb1\\xb0\\xec\\x9d\\x98 \\xec\\xb2\\x98\\xec\\x9d\\x8c \\xec\\x97\\xac\\xed\\x96\\x89\\xed\\x95\\x98\\xeb\\x9f\\xac \\xea\\xb0\\x80\\xeb\\x8a\\x94 \\xeb\\x89\\xb4\\xec\\x97\\xad \\xed\\x86\\xa0\\xeb\\xb0\\x95\\xec\\x9d\\xb4 \\xea\\xb5\\x90\\xed\\x8f\\xac \\xec\\x97\\xac\\xec\\x84\\xb1\\xec\\x9e\\x85\\xeb\\x8b\\x88\\xeb\\x8b\\xa4. \\xec\\x9a\\xb4\\xec\\xa0\\x84\\xec\\x9d\\x84 \\xeb\\xaa\\xbb\\xed\\x95\\xb4\\xec\\x84\\x9c :-(  \\xeb\\x8f\\x84\\xeb\\xb3\\xb4\\xec\\x99\\x80 \\xeb\\x8c\\x80\\xec\\xa4\\x91\\xea\\xb5\\x90\\xed\\x86\\xb5\\xec\\x9c\\xbc\\xeb\\xa1\\x9c \\xeb\\xb9\\x84\\xea\\xb5\\x90\\xec\\xa0\\x81 \\xed\\x8e\\xb8\\xed\\x95\\x9c\\xea\\xb3\\xb3\\xec\\x9d\\x84 \\xec\\xb0\\xbe\\xeb\\x8d\\x98\\xec\\xa4\\x91\\xec\\x97\\x90 \\xeb\\xae\\xa4\\xec\\xa7\\x80\\xec\\x97\\x84\\xeb\\x8f\\x84 \\xea\\xb0\\x80\\xea\\xb9\\x9d\\xea\\xb3\\xa0 \\xec\\xa3\\xbc\\xec\\x9d\\xb8\\xeb\\xb6\\x84 \\xec\\xb9\\xad\\xec\\xb0\\xac\\xeb\\x8f\\x84 \\xec\\x9e\\x90\\xec\\x9e\\x90\\xed\\x95\\x9c \\xed\\x9b\\x84\\xea\\xb8\\xb0\\xeb\\xa5\\xbc \\xeb\\xb3\\xb4\\xea\\xb3\\xa0 \\xec\\x9d\\xb4\\xeb\\xa0\\x87\\xea\\xb2\\x8c \\xeb\\xa6\\xac\\xed\\x80\\x98\\xec\\x8a\\xa4\\xed\\x8a\\xb8\\xeb\\xa5\\xbc \\xed\\x95\\xb4\\xeb\\xb4\\x85\\xeb\\x8b\\x88\\xeb\\x8b\\xa4.  \\xeb\\xb9\\x84\\xed\\x9d\\xa1\\xec\\x97\\xb0\\xec\\x9e\\x90 \\xeb\\xa7\\x9e\\xea\\xb3\\xa0 \\xec\\xa0\\x80\\xeb\\x8f\\x84 \\xed\\x98\\xb8\\xec\\x8a\\xa4\\xed\\x8a\\xb8 \\xea\\xb2\\xbd\\xed\\x97\\x98\\xec\\x9d\\xb4 \\xec\\x9e\\x88\\xec\\x9c\\xbc\\xeb\\x8b\\x88 \\xec\\xa2\\x8b\\xec\\x9d\\x80 \\xea\\xb2\\x8c\\xec\\x8a\\xa4\\xed\\x8a\\xb8\\xeb\\xa1\\x9c \\xec\\xa7\\x80\\xeb\\x82\\xb4\\xeb\\x8f\\x84\\xeb\\xa1\\x9d \\xed\\x95\\x98\\xea\\xb2\\xa0\\xec\\x8a\\xb5\\xeb\\x8b\\x88\\xeb\\x8b\\xa4. ^^',\n",
       "  1,\n",
       "  0.97289679215201164],\n",
       " ['i will be writing a romance novel:)', 1, 0.6660339660339728],\n",
       " [\"hey i'm lindo! \", 1, 0.99855217174238342],\n",
       " ['we are coming for a program at ithaca college', 1, 0.52056910310918436],\n",
       " ['blah blah ', 1, 0.99855217174238342],\n",
       " [\"working with nelson and jimmy on a jack daniel's project.\",\n",
       "  1,\n",
       "  0.99855217174238342],\n",
       " ['is there any animals?', 1, 0.99710867397806613],\n",
       " ['birding festival', 1, 0.99855217174238342],\n",
       " ['dhdhd', 1, 0.99710867397806613],\n",
       " ['coming for the bioacoustics', 1, 0.99855217174238342],\n",
       " ['hello, this is darius', 1, 0.50796545715444219],\n",
       " ['coming with meghan simington!', 1, 0.99855217174238342],\n",
       " [\"working on a story--i'm a journalist.\", 1, 0.65301069999916994],\n",
       " ['hihihi', 1, 0.99710867397806613],\n",
       " ['helllooooo! have me?', 1, 0.99710867397806613],\n",
       " ['tedt', 1, 0.99710867397806613],\n",
       " ['babymoon', 1, 0.99710867397806613],\n",
       " ['family program at ithaca college', 1, 0.51353787056571676],\n",
       " ['\\xe5\\xa6\\xb3\\xe5\\xa5\\xbd! \\xe6\\x88\\x91\\xe8\\xa6\\x81\\xe4\\xbe\\x86\\xe7\\xb4\\x90\\xe7\\xb4\\x84\\xe6\\x97\\x85\\xe8\\xa1\\x8c\\xe3\\x80\\x82\\xe5\\xbe\\x88\\xe9\\xab\\x98\\xe8\\x88\\x88\\xe8\\xaa\\x8d\\xe8\\xad\\x98\\xe5\\xa6\\xb3\\xe3\\x80\\x82',\n",
       "  1,\n",
       "  0.99903429903429697],\n",
       " ['ffbfgbdfgndgndgnzdggngndzngngn gfdbbnn  gngngnzg', 1, 0.99903429903429697],\n",
       " ['traveling with parents to go to the masters', 1, 0.9992755433424948],\n",
       " ['we have a family event at pecan springs ranch', 1, 0.64091403167751215],\n",
       " ['heyy', 1, 0.99710867397806613],\n",
       " ['\\xe4\\xbd\\xa0\\xe5\\xa5\\xbd\\xef\\xbc\\x8c\\xe6\\x88\\x91\\xe6\\x9c\\x8b\\xe5\\x8f\\x8b\\xe5\\x91\\xa8\\xe4\\xba\\x94\\xe4\\xbb\\x8e\\xe4\\xb8\\xad\\xe5\\x9b\\xbd\\xe8\\xbf\\x87\\xe6\\x9d\\xa5\\xe7\\x8e\\xa9\\xef\\xbc\\x8c\\xe5\\x91\\xa8\\xe6\\x97\\xa5\\xe7\\xa6\\xbb\\xe5\\xbc\\x80\\xe3\\x80\\x82\\xe4\\xb8\\xa4\\xe4\\xb8\\xaa\\xe5\\xa5\\xb3\\xe5\\xad\\xa9\\xe5\\xad\\x90\\xe6\\x83\\xb3\\xe5\\x9c\\xa8\\xe5\\x91\\xa8\\xe4\\xba\\x94\\xe6\\x99\\x9a\\xe5\\x92\\x8c\\xe5\\x91\\xa8\\xe5\\x85\\xad\\xe6\\x99\\x9a\\xe4\\xb8\\x8a\\xe6\\x9a\\x82\\xe4\\xbd\\x8f\\xe4\\xbd\\xa0\\xe7\\x9a\\x84\\xe6\\x88\\xbf\\xe9\\x97\\xb4\\xef\\xbc\\x8c\\xe8\\xb0\\xa2\\xe8\\xb0\\xa2\\xe5\\x95\\xa6\\xe3\\x80\\x82',\n",
       "  1,\n",
       "  0.54301326374021053],\n",
       " ['visiting with coworkers', 1, 0.50869955370180386],\n",
       " ['me and my gf will be staying here.', 1, 0.50442111672852363]]"
      ]
     },
     "execution_count": 182,
     "metadata": {},
     "output_type": "execute_result"
    }
   ],
   "source": [
    "[x for x in messages_topic_1 if x[2] > 0.5]"
   ]
  },
  {
   "cell_type": "code",
   "execution_count": 159,
   "metadata": {
    "collapsed": false
   },
   "outputs": [],
   "source": [
    "y = lda_model_30[corpus[1]]"
   ]
  },
  {
   "cell_type": "code",
   "execution_count": 165,
   "metadata": {
    "collapsed": false
   },
   "outputs": [],
   "source": [
    "z = [item for item in y if item[0] == 2]"
   ]
  },
  {
   "cell_type": "code",
   "execution_count": 169,
   "metadata": {
    "collapsed": false
   },
   "outputs": [
    {
     "data": {
      "text/plain": [
       "0.041313581177095861"
      ]
     },
     "execution_count": 169,
     "metadata": {},
     "output_type": "execute_result"
    }
   ],
   "source": [
    "z[0][1]"
   ]
  },
  {
   "cell_type": "code",
   "execution_count": 170,
   "metadata": {
    "collapsed": false
   },
   "outputs": [
    {
     "data": {
      "text/plain": [
       "1"
      ]
     },
     "execution_count": 170,
     "metadata": {},
     "output_type": "execute_result"
    }
   ],
   "source": [
    "len(z)"
   ]
  },
  {
   "cell_type": "code",
   "execution_count": 192,
   "metadata": {
    "collapsed": false
   },
   "outputs": [],
   "source": [
    "#make a pandas dataframe that has the schema [message text, topic, topic probability]\n",
    "\n",
    "df = pd.DataFrame([7, lda_model_30[corpus[7]]])\n",
    "\n"
   ]
  },
  {
   "cell_type": "code",
   "execution_count": 193,
   "metadata": {
    "collapsed": false
   },
   "outputs": [
    {
     "data": {
      "text/html": [
       "<div>\n",
       "<style>\n",
       "    .dataframe thead tr:only-child th {\n",
       "        text-align: right;\n",
       "    }\n",
       "\n",
       "    .dataframe thead th {\n",
       "        text-align: left;\n",
       "    }\n",
       "\n",
       "    .dataframe tbody tr th {\n",
       "        vertical-align: top;\n",
       "    }\n",
       "</style>\n",
       "<table border=\"1\" class=\"dataframe\">\n",
       "  <thead>\n",
       "    <tr style=\"text-align: right;\">\n",
       "      <th></th>\n",
       "      <th>0</th>\n",
       "    </tr>\n",
       "  </thead>\n",
       "  <tbody>\n",
       "    <tr>\n",
       "      <th>0</th>\n",
       "      <td>7</td>\n",
       "    </tr>\n",
       "    <tr>\n",
       "      <th>1</th>\n",
       "      <td>[(7, 0.100079848113), (9, 0.334752994663), (11...</td>\n",
       "    </tr>\n",
       "  </tbody>\n",
       "</table>\n",
       "</div>"
      ],
      "text/plain": [
       "                                                   0\n",
       "0                                                  7\n",
       "1  [(7, 0.100079848113), (9, 0.334752994663), (11..."
      ]
     },
     "execution_count": 193,
     "metadata": {},
     "output_type": "execute_result"
    }
   ],
   "source": [
    "df"
   ]
  },
  {
   "cell_type": "code",
   "execution_count": 191,
   "metadata": {
    "collapsed": false
   },
   "outputs": [
    {
     "data": {
      "text/html": [
       "<div>\n",
       "<style>\n",
       "    .dataframe thead tr:only-child th {\n",
       "        text-align: right;\n",
       "    }\n",
       "\n",
       "    .dataframe thead th {\n",
       "        text-align: left;\n",
       "    }\n",
       "\n",
       "    .dataframe tbody tr th {\n",
       "        vertical-align: top;\n",
       "    }\n",
       "</style>\n",
       "<table border=\"1\" class=\"dataframe\">\n",
       "  <thead>\n",
       "    <tr style=\"text-align: right;\">\n",
       "      <th></th>\n",
       "      <th>0</th>\n",
       "      <th>1</th>\n",
       "    </tr>\n",
       "  </thead>\n",
       "  <tbody>\n",
       "    <tr>\n",
       "      <th>0</th>\n",
       "      <td>7</td>\n",
       "      <td>0.099578</td>\n",
       "    </tr>\n",
       "    <tr>\n",
       "      <th>1</th>\n",
       "      <td>9</td>\n",
       "      <td>0.334653</td>\n",
       "    </tr>\n",
       "    <tr>\n",
       "      <th>2</th>\n",
       "      <td>11</td>\n",
       "      <td>0.056714</td>\n",
       "    </tr>\n",
       "    <tr>\n",
       "      <th>3</th>\n",
       "      <td>21</td>\n",
       "      <td>0.446981</td>\n",
       "    </tr>\n",
       "    <tr>\n",
       "      <th>4</th>\n",
       "      <td>25</td>\n",
       "      <td>0.061956</td>\n",
       "    </tr>\n",
       "    <tr>\n",
       "      <th>0</th>\n",
       "      <td>19</td>\n",
       "      <td>0.169406</td>\n",
       "    </tr>\n",
       "    <tr>\n",
       "      <th>1</th>\n",
       "      <td>21</td>\n",
       "      <td>0.157008</td>\n",
       "    </tr>\n",
       "    <tr>\n",
       "      <th>2</th>\n",
       "      <td>28</td>\n",
       "      <td>0.673452</td>\n",
       "    </tr>\n",
       "  </tbody>\n",
       "</table>\n",
       "</div>"
      ],
      "text/plain": [
       "    0         1\n",
       "0   7  0.099578\n",
       "1   9  0.334653\n",
       "2  11  0.056714\n",
       "3  21  0.446981\n",
       "4  25  0.061956\n",
       "0  19  0.169406\n",
       "1  21  0.157008\n",
       "2  28  0.673452"
      ]
     },
     "execution_count": 191,
     "metadata": {},
     "output_type": "execute_result"
    }
   ],
   "source": [
    "df.append(pd.DataFrame(lda_model_30[corpus[100]]))"
   ]
  },
  {
   "cell_type": "code",
   "execution_count": 264,
   "metadata": {
    "collapsed": false
   },
   "outputs": [],
   "source": [
    "z = lda_model_30[corpus[17231]]\n",
    "z0 = [x[0] for x in z]\n",
    "z1 = [x[1] for x in z]\n",
    "df = pd.DataFrame.from_items([('a', z0), ('b', z1)])"
   ]
  },
  {
   "cell_type": "code",
   "execution_count": 265,
   "metadata": {
    "collapsed": false
   },
   "outputs": [
    {
     "data": {
      "text/html": [
       "<div>\n",
       "<style>\n",
       "    .dataframe thead tr:only-child th {\n",
       "        text-align: right;\n",
       "    }\n",
       "\n",
       "    .dataframe thead th {\n",
       "        text-align: left;\n",
       "    }\n",
       "\n",
       "    .dataframe tbody tr th {\n",
       "        vertical-align: top;\n",
       "    }\n",
       "</style>\n",
       "<table border=\"1\" class=\"dataframe\">\n",
       "  <thead>\n",
       "    <tr style=\"text-align: right;\">\n",
       "      <th></th>\n",
       "      <th>a</th>\n",
       "      <th>b</th>\n",
       "    </tr>\n",
       "  </thead>\n",
       "  <tbody>\n",
       "    <tr>\n",
       "      <th>0</th>\n",
       "      <td>9</td>\n",
       "      <td>0.141697</td>\n",
       "    </tr>\n",
       "    <tr>\n",
       "      <th>1</th>\n",
       "      <td>20</td>\n",
       "      <td>0.338097</td>\n",
       "    </tr>\n",
       "    <tr>\n",
       "      <th>2</th>\n",
       "      <td>26</td>\n",
       "      <td>0.519936</td>\n",
       "    </tr>\n",
       "  </tbody>\n",
       "</table>\n",
       "</div>"
      ],
      "text/plain": [
       "    a         b\n",
       "0   9  0.141697\n",
       "1  20  0.338097\n",
       "2  26  0.519936"
      ]
     },
     "execution_count": 265,
     "metadata": {},
     "output_type": "execute_result"
    }
   ],
   "source": [
    "df"
   ]
  },
  {
   "cell_type": "code",
   "execution_count": 202,
   "metadata": {
    "collapsed": false
   },
   "outputs": [
    {
     "data": {
      "text/plain": [
       "[9, 20, 26]"
      ]
     },
     "execution_count": 202,
     "metadata": {},
     "output_type": "execute_result"
    }
   ],
   "source": [
    "z0"
   ]
  },
  {
   "cell_type": "code",
   "execution_count": 226,
   "metadata": {
    "collapsed": false
   },
   "outputs": [],
   "source": [
    "df1 = pd.DataFrame([z0, z1, [1] * len(z0), ['meep'] * len(z0)]).transpose()"
   ]
  },
  {
   "cell_type": "code",
   "execution_count": 227,
   "metadata": {
    "collapsed": false
   },
   "outputs": [
    {
     "data": {
      "text/html": [
       "<div>\n",
       "<style>\n",
       "    .dataframe thead tr:only-child th {\n",
       "        text-align: right;\n",
       "    }\n",
       "\n",
       "    .dataframe thead th {\n",
       "        text-align: left;\n",
       "    }\n",
       "\n",
       "    .dataframe tbody tr th {\n",
       "        vertical-align: top;\n",
       "    }\n",
       "</style>\n",
       "<table border=\"1\" class=\"dataframe\">\n",
       "  <thead>\n",
       "    <tr style=\"text-align: right;\">\n",
       "      <th></th>\n",
       "      <th>0</th>\n",
       "      <th>1</th>\n",
       "      <th>2</th>\n",
       "      <th>3</th>\n",
       "    </tr>\n",
       "  </thead>\n",
       "  <tbody>\n",
       "    <tr>\n",
       "      <th>0</th>\n",
       "      <td>9</td>\n",
       "      <td>0.141637</td>\n",
       "      <td>1</td>\n",
       "      <td>meep</td>\n",
       "    </tr>\n",
       "    <tr>\n",
       "      <th>1</th>\n",
       "      <td>20</td>\n",
       "      <td>0.338185</td>\n",
       "      <td>1</td>\n",
       "      <td>meep</td>\n",
       "    </tr>\n",
       "    <tr>\n",
       "      <th>2</th>\n",
       "      <td>26</td>\n",
       "      <td>0.519908</td>\n",
       "      <td>1</td>\n",
       "      <td>meep</td>\n",
       "    </tr>\n",
       "  </tbody>\n",
       "</table>\n",
       "</div>"
      ],
      "text/plain": [
       "    0         1  2     3\n",
       "0   9  0.141637  1  meep\n",
       "1  20  0.338185  1  meep\n",
       "2  26  0.519908  1  meep"
      ]
     },
     "execution_count": 227,
     "metadata": {},
     "output_type": "execute_result"
    }
   ],
   "source": [
    "df1"
   ]
  },
  {
   "cell_type": "code",
   "execution_count": 221,
   "metadata": {
    "collapsed": false
   },
   "outputs": [
    {
     "data": {
      "text/html": [
       "<div>\n",
       "<style>\n",
       "    .dataframe thead tr:only-child th {\n",
       "        text-align: right;\n",
       "    }\n",
       "\n",
       "    .dataframe thead th {\n",
       "        text-align: left;\n",
       "    }\n",
       "\n",
       "    .dataframe tbody tr th {\n",
       "        vertical-align: top;\n",
       "    }\n",
       "</style>\n",
       "<table border=\"1\" class=\"dataframe\">\n",
       "  <thead>\n",
       "    <tr style=\"text-align: right;\">\n",
       "      <th></th>\n",
       "      <th>0</th>\n",
       "      <th>1</th>\n",
       "    </tr>\n",
       "  </thead>\n",
       "  <tbody>\n",
       "    <tr>\n",
       "      <th>0</th>\n",
       "      <td>9.0</td>\n",
       "      <td>0.141637</td>\n",
       "    </tr>\n",
       "    <tr>\n",
       "      <th>1</th>\n",
       "      <td>20.0</td>\n",
       "      <td>0.338185</td>\n",
       "    </tr>\n",
       "    <tr>\n",
       "      <th>2</th>\n",
       "      <td>26.0</td>\n",
       "      <td>0.519908</td>\n",
       "    </tr>\n",
       "    <tr>\n",
       "      <th>0</th>\n",
       "      <td>9.0</td>\n",
       "      <td>0.141637</td>\n",
       "    </tr>\n",
       "    <tr>\n",
       "      <th>1</th>\n",
       "      <td>20.0</td>\n",
       "      <td>0.338185</td>\n",
       "    </tr>\n",
       "    <tr>\n",
       "      <th>2</th>\n",
       "      <td>26.0</td>\n",
       "      <td>0.519908</td>\n",
       "    </tr>\n",
       "  </tbody>\n",
       "</table>\n",
       "</div>"
      ],
      "text/plain": [
       "      0         1\n",
       "0   9.0  0.141637\n",
       "1  20.0  0.338185\n",
       "2  26.0  0.519908\n",
       "0   9.0  0.141637\n",
       "1  20.0  0.338185\n",
       "2  26.0  0.519908"
      ]
     },
     "execution_count": 221,
     "metadata": {},
     "output_type": "execute_result"
    }
   ],
   "source": [
    "df1.append(pd.DataFrame([z0, z1]).transpose())"
   ]
  },
  {
   "cell_type": "code",
   "execution_count": 45,
   "metadata": {
    "collapsed": false
   },
   "outputs": [],
   "source": [
    "#sample messages tagged with topic 1, make a list of [message text, topic, probability of being in topic]\n",
    "random.seed(20170713)\n",
    "\n",
    "#sample 10000 random contacts\n",
    "n_corpus = len(corpus)\n",
    "n_sample = 10000\n",
    "mask = random.sample(xrange(n_corpus), n_sample)\n",
    "\n",
    "#initialize dataframe\n",
    "df = pd.DataFrame(data = None, columns = ['index', 'topic', 'probability', 'text'])\n",
    "\n",
    "\n",
    "\n",
    "for i in range(n_sample):\n",
    "    #get array of topics and probabilities for document i\n",
    "    results_i = lda_model_30[corpus[mask[i]]]\n",
    "    r0 = [x[0] for x in results_i]\n",
    "    r1 = [x[1] for x in results_i]\n",
    "    #append index (mask), topic, probability and text to dataframe\n",
    "    #df.append(pd.DataFrame([mask[i]] * len(r0),r0, r1, [documents[mask[i]]] * len(r0)).transpose()) \n",
    "    df_temp = pd.DataFrame.from_items([('index', [mask[i]] * len(r0)), ('topic', r0), ('probability', r1), ('text', [documents[mask[i]]] * len(r0))])\n",
    "    df = df.append(df_temp, ignore_index = True)\n",
    "\n",
    "    \n",
    "\n"
   ]
  },
  {
   "cell_type": "code",
   "execution_count": 48,
   "metadata": {
    "collapsed": false
   },
   "outputs": [
    {
     "data": {
      "text/html": [
       "<div>\n",
       "<style>\n",
       "    .dataframe thead tr:only-child th {\n",
       "        text-align: right;\n",
       "    }\n",
       "\n",
       "    .dataframe thead th {\n",
       "        text-align: left;\n",
       "    }\n",
       "\n",
       "    .dataframe tbody tr th {\n",
       "        vertical-align: top;\n",
       "    }\n",
       "</style>\n",
       "<table border=\"1\" class=\"dataframe\">\n",
       "  <thead>\n",
       "    <tr style=\"text-align: right;\">\n",
       "      <th></th>\n",
       "      <th>index</th>\n",
       "      <th>topic</th>\n",
       "      <th>probability</th>\n",
       "      <th>text</th>\n",
       "    </tr>\n",
       "  </thead>\n",
       "  <tbody>\n",
       "    <tr>\n",
       "      <th>0</th>\n",
       "      <td>479585</td>\n",
       "      <td>7</td>\n",
       "      <td>0.435787</td>\n",
       "      <td>fishing and visit family</td>\n",
       "    </tr>\n",
       "    <tr>\n",
       "      <th>1</th>\n",
       "      <td>479585</td>\n",
       "      <td>19</td>\n",
       "      <td>0.563280</td>\n",
       "      <td>fishing and visit family</td>\n",
       "    </tr>\n",
       "    <tr>\n",
       "      <th>2</th>\n",
       "      <td>208567</td>\n",
       "      <td>2</td>\n",
       "      <td>0.094480</td>\n",
       "      <td>hi,     first time headed to chatanooga for a ...</td>\n",
       "    </tr>\n",
       "    <tr>\n",
       "      <th>3</th>\n",
       "      <td>208567</td>\n",
       "      <td>9</td>\n",
       "      <td>0.204221</td>\n",
       "      <td>hi,     first time headed to chatanooga for a ...</td>\n",
       "    </tr>\n",
       "    <tr>\n",
       "      <th>4</th>\n",
       "      <td>208567</td>\n",
       "      <td>14</td>\n",
       "      <td>0.140526</td>\n",
       "      <td>hi,     first time headed to chatanooga for a ...</td>\n",
       "    </tr>\n",
       "  </tbody>\n",
       "</table>\n",
       "</div>"
      ],
      "text/plain": [
       "    index topic  probability  \\\n",
       "0  479585     7     0.435787   \n",
       "1  479585    19     0.563280   \n",
       "2  208567     2     0.094480   \n",
       "3  208567     9     0.204221   \n",
       "4  208567    14     0.140526   \n",
       "\n",
       "                                                text  \n",
       "0                           fishing and visit family  \n",
       "1                           fishing and visit family  \n",
       "2  hi,     first time headed to chatanooga for a ...  \n",
       "3  hi,     first time headed to chatanooga for a ...  \n",
       "4  hi,     first time headed to chatanooga for a ...  "
      ]
     },
     "execution_count": 48,
     "metadata": {},
     "output_type": "execute_result"
    }
   ],
   "source": [
    "df.head()"
   ]
  },
  {
   "cell_type": "code",
   "execution_count": 47,
   "metadata": {
    "collapsed": false
   },
   "outputs": [
    {
     "data": {
      "text/html": [
       "<div>\n",
       "<style>\n",
       "    .dataframe thead tr:only-child th {\n",
       "        text-align: right;\n",
       "    }\n",
       "\n",
       "    .dataframe thead th {\n",
       "        text-align: left;\n",
       "    }\n",
       "\n",
       "    .dataframe tbody tr th {\n",
       "        vertical-align: top;\n",
       "    }\n",
       "</style>\n",
       "<table border=\"1\" class=\"dataframe\">\n",
       "  <thead>\n",
       "    <tr style=\"text-align: right;\">\n",
       "      <th></th>\n",
       "      <th>index</th>\n",
       "      <th>probability</th>\n",
       "      <th>text</th>\n",
       "    </tr>\n",
       "    <tr>\n",
       "      <th>topic</th>\n",
       "      <th></th>\n",
       "      <th></th>\n",
       "      <th></th>\n",
       "    </tr>\n",
       "  </thead>\n",
       "  <tbody>\n",
       "    <tr>\n",
       "      <th>1</th>\n",
       "      <td>975</td>\n",
       "      <td>975</td>\n",
       "      <td>975</td>\n",
       "    </tr>\n",
       "    <tr>\n",
       "      <th>28</th>\n",
       "      <td>986</td>\n",
       "      <td>986</td>\n",
       "      <td>986</td>\n",
       "    </tr>\n",
       "    <tr>\n",
       "      <th>2</th>\n",
       "      <td>991</td>\n",
       "      <td>991</td>\n",
       "      <td>991</td>\n",
       "    </tr>\n",
       "    <tr>\n",
       "      <th>13</th>\n",
       "      <td>1062</td>\n",
       "      <td>1062</td>\n",
       "      <td>1062</td>\n",
       "    </tr>\n",
       "    <tr>\n",
       "      <th>9</th>\n",
       "      <td>1082</td>\n",
       "      <td>1082</td>\n",
       "      <td>1082</td>\n",
       "    </tr>\n",
       "    <tr>\n",
       "      <th>20</th>\n",
       "      <td>1085</td>\n",
       "      <td>1085</td>\n",
       "      <td>1085</td>\n",
       "    </tr>\n",
       "    <tr>\n",
       "      <th>14</th>\n",
       "      <td>1187</td>\n",
       "      <td>1187</td>\n",
       "      <td>1187</td>\n",
       "    </tr>\n",
       "    <tr>\n",
       "      <th>16</th>\n",
       "      <td>1219</td>\n",
       "      <td>1219</td>\n",
       "      <td>1219</td>\n",
       "    </tr>\n",
       "    <tr>\n",
       "      <th>11</th>\n",
       "      <td>1230</td>\n",
       "      <td>1230</td>\n",
       "      <td>1230</td>\n",
       "    </tr>\n",
       "    <tr>\n",
       "      <th>29</th>\n",
       "      <td>1247</td>\n",
       "      <td>1247</td>\n",
       "      <td>1247</td>\n",
       "    </tr>\n",
       "    <tr>\n",
       "      <th>22</th>\n",
       "      <td>1269</td>\n",
       "      <td>1269</td>\n",
       "      <td>1269</td>\n",
       "    </tr>\n",
       "    <tr>\n",
       "      <th>17</th>\n",
       "      <td>1270</td>\n",
       "      <td>1270</td>\n",
       "      <td>1270</td>\n",
       "    </tr>\n",
       "    <tr>\n",
       "      <th>3</th>\n",
       "      <td>1287</td>\n",
       "      <td>1287</td>\n",
       "      <td>1287</td>\n",
       "    </tr>\n",
       "    <tr>\n",
       "      <th>0</th>\n",
       "      <td>1295</td>\n",
       "      <td>1295</td>\n",
       "      <td>1295</td>\n",
       "    </tr>\n",
       "    <tr>\n",
       "      <th>5</th>\n",
       "      <td>1307</td>\n",
       "      <td>1307</td>\n",
       "      <td>1307</td>\n",
       "    </tr>\n",
       "    <tr>\n",
       "      <th>12</th>\n",
       "      <td>1327</td>\n",
       "      <td>1327</td>\n",
       "      <td>1327</td>\n",
       "    </tr>\n",
       "    <tr>\n",
       "      <th>18</th>\n",
       "      <td>1365</td>\n",
       "      <td>1365</td>\n",
       "      <td>1365</td>\n",
       "    </tr>\n",
       "    <tr>\n",
       "      <th>24</th>\n",
       "      <td>1378</td>\n",
       "      <td>1378</td>\n",
       "      <td>1378</td>\n",
       "    </tr>\n",
       "    <tr>\n",
       "      <th>23</th>\n",
       "      <td>1393</td>\n",
       "      <td>1393</td>\n",
       "      <td>1393</td>\n",
       "    </tr>\n",
       "    <tr>\n",
       "      <th>7</th>\n",
       "      <td>1404</td>\n",
       "      <td>1404</td>\n",
       "      <td>1404</td>\n",
       "    </tr>\n",
       "    <tr>\n",
       "      <th>8</th>\n",
       "      <td>1453</td>\n",
       "      <td>1453</td>\n",
       "      <td>1453</td>\n",
       "    </tr>\n",
       "    <tr>\n",
       "      <th>25</th>\n",
       "      <td>1470</td>\n",
       "      <td>1470</td>\n",
       "      <td>1470</td>\n",
       "    </tr>\n",
       "    <tr>\n",
       "      <th>10</th>\n",
       "      <td>1490</td>\n",
       "      <td>1490</td>\n",
       "      <td>1490</td>\n",
       "    </tr>\n",
       "    <tr>\n",
       "      <th>27</th>\n",
       "      <td>1838</td>\n",
       "      <td>1838</td>\n",
       "      <td>1838</td>\n",
       "    </tr>\n",
       "    <tr>\n",
       "      <th>26</th>\n",
       "      <td>1968</td>\n",
       "      <td>1968</td>\n",
       "      <td>1968</td>\n",
       "    </tr>\n",
       "    <tr>\n",
       "      <th>15</th>\n",
       "      <td>2155</td>\n",
       "      <td>2155</td>\n",
       "      <td>2155</td>\n",
       "    </tr>\n",
       "    <tr>\n",
       "      <th>19</th>\n",
       "      <td>2174</td>\n",
       "      <td>2174</td>\n",
       "      <td>2174</td>\n",
       "    </tr>\n",
       "    <tr>\n",
       "      <th>4</th>\n",
       "      <td>2331</td>\n",
       "      <td>2331</td>\n",
       "      <td>2331</td>\n",
       "    </tr>\n",
       "    <tr>\n",
       "      <th>6</th>\n",
       "      <td>2390</td>\n",
       "      <td>2390</td>\n",
       "      <td>2390</td>\n",
       "    </tr>\n",
       "    <tr>\n",
       "      <th>21</th>\n",
       "      <td>2725</td>\n",
       "      <td>2725</td>\n",
       "      <td>2725</td>\n",
       "    </tr>\n",
       "  </tbody>\n",
       "</table>\n",
       "</div>"
      ],
      "text/plain": [
       "       index  probability  text\n",
       "topic                          \n",
       "1        975          975   975\n",
       "28       986          986   986\n",
       "2        991          991   991\n",
       "13      1062         1062  1062\n",
       "9       1082         1082  1082\n",
       "20      1085         1085  1085\n",
       "14      1187         1187  1187\n",
       "16      1219         1219  1219\n",
       "11      1230         1230  1230\n",
       "29      1247         1247  1247\n",
       "22      1269         1269  1269\n",
       "17      1270         1270  1270\n",
       "3       1287         1287  1287\n",
       "0       1295         1295  1295\n",
       "5       1307         1307  1307\n",
       "12      1327         1327  1327\n",
       "18      1365         1365  1365\n",
       "24      1378         1378  1378\n",
       "23      1393         1393  1393\n",
       "7       1404         1404  1404\n",
       "8       1453         1453  1453\n",
       "25      1470         1470  1470\n",
       "10      1490         1490  1490\n",
       "27      1838         1838  1838\n",
       "26      1968         1968  1968\n",
       "15      2155         2155  2155\n",
       "19      2174         2174  2174\n",
       "4       2331         2331  2331\n",
       "6       2390         2390  2390\n",
       "21      2725         2725  2725"
      ]
     },
     "execution_count": 47,
     "metadata": {},
     "output_type": "execute_result"
    }
   ],
   "source": [
    "df.groupby('topic').agg('count').sort_values('text')"
   ]
  },
  {
   "cell_type": "code",
   "execution_count": null,
   "metadata": {
    "collapsed": true
   },
   "outputs": [],
   "source": []
  },
  {
   "cell_type": "code",
   "execution_count": 230,
   "metadata": {
    "collapsed": true
   },
   "outputs": [],
   "source": [
    "df = pd.DataFrame(data = None, columns = ['index', 'topic', 'probability', 'text'])"
   ]
  },
  {
   "cell_type": "code",
   "execution_count": 232,
   "metadata": {
    "collapsed": false
   },
   "outputs": [
    {
     "data": {
      "text/plain": [
       "[1, 1, 1, 1, 1, 1, 1, 1]"
      ]
     },
     "execution_count": 232,
     "metadata": {},
     "output_type": "execute_result"
    }
   ],
   "source": [
    "[1] * 8"
   ]
  },
  {
   "cell_type": "code",
   "execution_count": 234,
   "metadata": {
    "collapsed": false
   },
   "outputs": [
    {
     "data": {
      "text/plain": [
       "'hi sara! i am taking my parents and two kids to san diego for a week and would love to stay at your place! definitely need a quiet place for my parents, parking for our rental, and a place for my little one to sleep--looks like you have the entire package!!!!    let me know if it is available!  janellyn'"
      ]
     },
     "execution_count": 234,
     "metadata": {},
     "output_type": "execute_result"
    }
   ],
   "source": [
    "documents[1]"
   ]
  },
  {
   "cell_type": "code",
   "execution_count": 241,
   "metadata": {
    "collapsed": false
   },
   "outputs": [
    {
     "data": {
      "text/html": [
       "<div>\n",
       "<style>\n",
       "    .dataframe thead tr:only-child th {\n",
       "        text-align: right;\n",
       "    }\n",
       "\n",
       "    .dataframe thead th {\n",
       "        text-align: left;\n",
       "    }\n",
       "\n",
       "    .dataframe tbody tr th {\n",
       "        vertical-align: top;\n",
       "    }\n",
       "</style>\n",
       "<table border=\"1\" class=\"dataframe\">\n",
       "  <thead>\n",
       "    <tr style=\"text-align: right;\">\n",
       "      <th></th>\n",
       "      <th>0</th>\n",
       "      <th>1</th>\n",
       "      <th>probability</th>\n",
       "      <th>topic</th>\n",
       "    </tr>\n",
       "  </thead>\n",
       "  <tbody>\n",
       "    <tr>\n",
       "      <th>0</th>\n",
       "      <td>9.0</td>\n",
       "      <td>0.141616</td>\n",
       "      <td>NaN</td>\n",
       "      <td>NaN</td>\n",
       "    </tr>\n",
       "    <tr>\n",
       "      <th>1</th>\n",
       "      <td>20.0</td>\n",
       "      <td>0.338469</td>\n",
       "      <td>NaN</td>\n",
       "      <td>NaN</td>\n",
       "    </tr>\n",
       "    <tr>\n",
       "      <th>2</th>\n",
       "      <td>26.0</td>\n",
       "      <td>0.519645</td>\n",
       "      <td>NaN</td>\n",
       "      <td>NaN</td>\n",
       "    </tr>\n",
       "  </tbody>\n",
       "</table>\n",
       "</div>"
      ],
      "text/plain": [
       "      0         1 probability topic\n",
       "0   9.0  0.141616         NaN   NaN\n",
       "1  20.0  0.338469         NaN   NaN\n",
       "2  26.0  0.519645         NaN   NaN"
      ]
     },
     "execution_count": 241,
     "metadata": {},
     "output_type": "execute_result"
    }
   ],
   "source": [
    "df.append(pd.DataFrame([z0, z1]).transpose())"
   ]
  },
  {
   "cell_type": "code",
   "execution_count": 242,
   "metadata": {
    "collapsed": false
   },
   "outputs": [
    {
     "data": {
      "text/html": [
       "<div>\n",
       "<style>\n",
       "    .dataframe thead tr:only-child th {\n",
       "        text-align: right;\n",
       "    }\n",
       "\n",
       "    .dataframe thead th {\n",
       "        text-align: left;\n",
       "    }\n",
       "\n",
       "    .dataframe tbody tr th {\n",
       "        vertical-align: top;\n",
       "    }\n",
       "</style>\n",
       "<table border=\"1\" class=\"dataframe\">\n",
       "  <thead>\n",
       "    <tr style=\"text-align: right;\">\n",
       "      <th></th>\n",
       "      <th>topic</th>\n",
       "      <th>probability</th>\n",
       "    </tr>\n",
       "  </thead>\n",
       "  <tbody>\n",
       "  </tbody>\n",
       "</table>\n",
       "</div>"
      ],
      "text/plain": [
       "Empty DataFrame\n",
       "Columns: [topic, probability]\n",
       "Index: []"
      ]
     },
     "execution_count": 242,
     "metadata": {},
     "output_type": "execute_result"
    }
   ],
   "source": [
    "df"
   ]
  },
  {
   "cell_type": "code",
   "execution_count": 245,
   "metadata": {
    "collapsed": false
   },
   "outputs": [
    {
     "data": {
      "text/html": [
       "<div>\n",
       "<style>\n",
       "    .dataframe thead tr:only-child th {\n",
       "        text-align: right;\n",
       "    }\n",
       "\n",
       "    .dataframe thead th {\n",
       "        text-align: left;\n",
       "    }\n",
       "\n",
       "    .dataframe tbody tr th {\n",
       "        vertical-align: top;\n",
       "    }\n",
       "</style>\n",
       "<table border=\"1\" class=\"dataframe\">\n",
       "  <thead>\n",
       "    <tr style=\"text-align: right;\">\n",
       "      <th></th>\n",
       "      <th>topic</th>\n",
       "      <th>probability</th>\n",
       "    </tr>\n",
       "  </thead>\n",
       "  <tbody>\n",
       "  </tbody>\n",
       "</table>\n",
       "</div>"
      ],
      "text/plain": [
       "Empty DataFrame\n",
       "Columns: [topic, probability]\n",
       "Index: []"
      ]
     },
     "execution_count": 245,
     "metadata": {},
     "output_type": "execute_result"
    }
   ],
   "source": [
    "df"
   ]
  },
  {
   "cell_type": "code",
   "execution_count": 6,
   "metadata": {
    "collapsed": false
   },
   "outputs": [
    {
     "name": "stderr",
     "output_type": "stream",
     "text": [
      "presto: Query: Complete after 20.31 sec on 2017-09-14. CAVEATS: Loaded from cache.\n",
      "presto: Query: Complete after 14.70 sec on 2017-09-14. CAVEATS: Loaded from cache.\n",
      "presto: Query: Complete after 14.74 sec on 2017-09-14. CAVEATS: Loaded from cache.\n"
     ]
    }
   ],
   "source": [
    "from airpy.analysis import erf \n",
    "exp = erf.AdHocERFExperiment('web_first_message_suggestions')\n",
    "exp_data = exp.metrics.contact_to_book.get_subjects().head()"
   ]
  },
  {
   "cell_type": "code",
   "execution_count": 12,
   "metadata": {
    "collapsed": false
   },
   "outputs": [
    {
     "data": {
      "text/html": [
       "<div>\n",
       "<style>\n",
       "    .dataframe thead tr:only-child th {\n",
       "        text-align: right;\n",
       "    }\n",
       "\n",
       "    .dataframe thead th {\n",
       "        text-align: left;\n",
       "    }\n",
       "\n",
       "    .dataframe tbody tr th {\n",
       "        vertical-align: top;\n",
       "    }\n",
       "</style>\n",
       "<table border=\"1\" class=\"dataframe\">\n",
       "  <thead>\n",
       "    <tr style=\"text-align: right;\">\n",
       "      <th></th>\n",
       "      <th></th>\n",
       "      <th>assignment</th>\n",
       "      <th>bookings</th>\n",
       "      <th>contact_trips</th>\n",
       "      <th>ratio</th>\n",
       "    </tr>\n",
       "    <tr>\n",
       "      <th>dim_treatment</th>\n",
       "      <th>id_subject</th>\n",
       "      <th></th>\n",
       "      <th></th>\n",
       "      <th></th>\n",
       "      <th></th>\n",
       "    </tr>\n",
       "  </thead>\n",
       "  <tbody>\n",
       "    <tr>\n",
       "      <th rowspan=\"5\" valign=\"top\">control</th>\n",
       "      <th>10</th>\n",
       "      <td>1.0</td>\n",
       "      <td>1.0</td>\n",
       "      <td>1.0</td>\n",
       "      <td>1.000000</td>\n",
       "    </tr>\n",
       "    <tr>\n",
       "      <th>100000053</th>\n",
       "      <td>1.0</td>\n",
       "      <td>1.0</td>\n",
       "      <td>0.0</td>\n",
       "      <td>inf</td>\n",
       "    </tr>\n",
       "    <tr>\n",
       "      <th>100000371</th>\n",
       "      <td>1.0</td>\n",
       "      <td>1.0</td>\n",
       "      <td>0.0</td>\n",
       "      <td>inf</td>\n",
       "    </tr>\n",
       "    <tr>\n",
       "      <th>10000038</th>\n",
       "      <td>1.0</td>\n",
       "      <td>1.0</td>\n",
       "      <td>1.0</td>\n",
       "      <td>1.000000</td>\n",
       "    </tr>\n",
       "    <tr>\n",
       "      <th>100000401</th>\n",
       "      <td>1.0</td>\n",
       "      <td>0.0</td>\n",
       "      <td>0.0</td>\n",
       "      <td>NaN</td>\n",
       "    </tr>\n",
       "  </tbody>\n",
       "</table>\n",
       "</div>"
      ],
      "text/plain": [
       "                          assignment  bookings  contact_trips     ratio\n",
       "dim_treatment id_subject                                               \n",
       "control       10                 1.0       1.0            1.0  1.000000\n",
       "              100000053          1.0       1.0            0.0       inf\n",
       "              100000371          1.0       1.0            0.0       inf\n",
       "              10000038           1.0       1.0            1.0  1.000000\n",
       "              100000401          1.0       0.0            0.0       NaN"
      ]
     },
     "execution_count": 12,
     "metadata": {},
     "output_type": "execute_result"
    }
   ],
   "source": [
    "exp_data.head()"
   ]
  },
  {
   "cell_type": "code",
   "execution_count": null,
   "metadata": {
    "collapsed": true
   },
   "outputs": [],
   "source": []
  }
 ],
 "metadata": {
  "kernelspec": {
   "display_name": "Python 2",
   "language": "python",
   "name": "python2"
  },
  "language_info": {
   "codemirror_mode": {
    "name": "ipython",
    "version": 2
   },
   "file_extension": ".py",
   "mimetype": "text/x-python",
   "name": "python",
   "nbconvert_exporter": "python",
   "pygments_lexer": "ipython2",
   "version": "2.7.10"
  }
 },
 "nbformat": 4,
 "nbformat_minor": 0
}
