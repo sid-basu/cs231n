{
 "cells": [
  {
   "cell_type": "markdown",
   "metadata": {},
   "source": [
    "# Softmax exercise\n",
    "\n",
    "*Complete and hand in this completed worksheet (including its outputs and any supporting code outside of the worksheet) with your assignment submission. For more details see the [assignments page](http://vision.stanford.edu/teaching/cs231n/assignments.html) on the course website.*\n",
    "\n",
    "This exercise is analogous to the SVM exercise. You will:\n",
    "\n",
    "- implement a fully-vectorized **loss function** for the Softmax classifier\n",
    "- implement the fully-vectorized expression for its **analytic gradient**\n",
    "- **check your implementation** with numerical gradient\n",
    "- use a validation set to **tune the learning rate and regularization** strength\n",
    "- **optimize** the loss function with **SGD**\n",
    "- **visualize** the final learned weights\n"
   ]
  },
  {
   "cell_type": "code",
   "execution_count": 1,
   "metadata": {},
   "outputs": [],
   "source": [
    "import random\n",
    "import numpy as np\n",
    "from cs231n.data_utils import load_CIFAR10\n",
    "import matplotlib.pyplot as plt\n",
    "\n",
    "from __future__ import print_function\n",
    "\n",
    "%matplotlib inline\n",
    "plt.rcParams['figure.figsize'] = (10.0, 8.0) # set default size of plots\n",
    "plt.rcParams['image.interpolation'] = 'nearest'\n",
    "plt.rcParams['image.cmap'] = 'gray'\n",
    "\n",
    "# for auto-reloading extenrnal modules\n",
    "# see http://stackoverflow.com/questions/1907993/autoreload-of-modules-in-ipython\n",
    "%load_ext autoreload\n",
    "%autoreload 2"
   ]
  },
  {
   "cell_type": "code",
   "execution_count": 2,
   "metadata": {},
   "outputs": [
    {
     "name": "stdout",
     "output_type": "stream",
     "text": [
      "Train data shape:  (49000, 3073)\n",
      "Train labels shape:  (49000,)\n",
      "Validation data shape:  (1000, 3073)\n",
      "Validation labels shape:  (1000,)\n",
      "Test data shape:  (1000, 3073)\n",
      "Test labels shape:  (1000,)\n",
      "dev data shape:  (500, 3073)\n",
      "dev labels shape:  (500,)\n"
     ]
    }
   ],
   "source": [
    "def get_CIFAR10_data(num_training=49000, num_validation=1000, num_test=1000, num_dev=500):\n",
    "    \"\"\"\n",
    "    Load the CIFAR-10 dataset from disk and perform preprocessing to prepare\n",
    "    it for the linear classifier. These are the same steps as we used for the\n",
    "    SVM, but condensed to a single function.  \n",
    "    \"\"\"\n",
    "    # Load the raw CIFAR-10 data\n",
    "    cifar10_dir = 'cs231n/datasets/cifar-10-batches-py'\n",
    "    X_train, y_train, X_test, y_test = load_CIFAR10(cifar10_dir)\n",
    "    \n",
    "    # subsample the data\n",
    "    mask = list(range(num_training, num_training + num_validation))\n",
    "    X_val = X_train[mask]\n",
    "    y_val = y_train[mask]\n",
    "    mask = list(range(num_training))\n",
    "    X_train = X_train[mask]\n",
    "    y_train = y_train[mask]\n",
    "    mask = list(range(num_test))\n",
    "    X_test = X_test[mask]\n",
    "    y_test = y_test[mask]\n",
    "    mask = np.random.choice(num_training, num_dev, replace=False)\n",
    "    X_dev = X_train[mask]\n",
    "    y_dev = y_train[mask]\n",
    "    \n",
    "    # Preprocessing: reshape the image data into rows\n",
    "    X_train = np.reshape(X_train, (X_train.shape[0], -1))\n",
    "    X_val = np.reshape(X_val, (X_val.shape[0], -1))\n",
    "    X_test = np.reshape(X_test, (X_test.shape[0], -1))\n",
    "    X_dev = np.reshape(X_dev, (X_dev.shape[0], -1))\n",
    "    \n",
    "    # Normalize the data: subtract the mean image\n",
    "    mean_image = np.mean(X_train, axis = 0)\n",
    "    X_train -= mean_image\n",
    "    X_val -= mean_image\n",
    "    X_test -= mean_image\n",
    "    X_dev -= mean_image\n",
    "    \n",
    "    # add bias dimension and transform into columns\n",
    "    X_train = np.hstack([X_train, np.ones((X_train.shape[0], 1))])\n",
    "    X_val = np.hstack([X_val, np.ones((X_val.shape[0], 1))])\n",
    "    X_test = np.hstack([X_test, np.ones((X_test.shape[0], 1))])\n",
    "    X_dev = np.hstack([X_dev, np.ones((X_dev.shape[0], 1))])\n",
    "    \n",
    "    return X_train, y_train, X_val, y_val, X_test, y_test, X_dev, y_dev\n",
    "\n",
    "\n",
    "# Invoke the above function to get our data.\n",
    "X_train, y_train, X_val, y_val, X_test, y_test, X_dev, y_dev = get_CIFAR10_data()\n",
    "print('Train data shape: ', X_train.shape)\n",
    "print('Train labels shape: ', y_train.shape)\n",
    "print('Validation data shape: ', X_val.shape)\n",
    "print('Validation labels shape: ', y_val.shape)\n",
    "print('Test data shape: ', X_test.shape)\n",
    "print('Test labels shape: ', y_test.shape)\n",
    "print('dev data shape: ', X_dev.shape)\n",
    "print('dev labels shape: ', y_dev.shape)"
   ]
  },
  {
   "cell_type": "markdown",
   "metadata": {},
   "source": [
    "## Softmax Classifier\n",
    "\n",
    "Your code for this section will all be written inside **cs231n/classifiers/softmax.py**. \n"
   ]
  },
  {
   "cell_type": "code",
   "execution_count": 36,
   "metadata": {},
   "outputs": [
    {
     "name": "stdout",
     "output_type": "stream",
     "text": [
      "loss: 2.382468\n",
      "sanity check: 2.302585\n"
     ]
    }
   ],
   "source": [
    "# First implement the naive softmax loss function with nested loops.\n",
    "# Open the file cs231n/classifiers/softmax.py and implement the\n",
    "# softmax_loss_naive function.\n",
    "\n",
    "from cs231n.classifiers.softmax import softmax_loss_naive\n",
    "import time\n",
    "\n",
    "# Generate a random softmax weight matrix and use it to compute the loss.\n",
    "W = np.random.randn(3073, 10) * 0.0001\n",
    "loss, grad = softmax_loss_naive(W, X_dev, y_dev, 0.0)\n",
    "\n",
    "# As a rough sanity check, our loss should be something close to -log(0.1).\n",
    "print('loss: %f' % loss)\n",
    "print('sanity check: %f' % (-np.log(0.1)))"
   ]
  },
  {
   "cell_type": "markdown",
   "metadata": {},
   "source": [
    "## Inline Question 1:\n",
    "Why do we expect our loss to be close to -log(0.1)? Explain briefly.**\n",
    "\n",
    "**Your answer:** This is because each class probability should be similar at the beginning. Therefore $\\frac{e^{s_i}}{\\Sigma e^{s_i}} = \\frac{1/10}$ so the loss should be negative log of that.\n"
   ]
  },
  {
   "cell_type": "code",
   "execution_count": 117,
   "metadata": {},
   "outputs": [
    {
     "name": "stdout",
     "output_type": "stream",
     "text": [
      "numerical: 0.890291 analytic: 0.890291, relative error: 3.619322e-08\n",
      "numerical: 0.184974 analytic: 0.184974, relative error: 6.215284e-08\n",
      "numerical: 1.179476 analytic: 1.179476, relative error: 2.336357e-08\n",
      "numerical: -0.659291 analytic: -0.659292, relative error: 1.073104e-07\n",
      "numerical: 0.756947 analytic: 0.756947, relative error: 3.075122e-08\n",
      "numerical: 2.738383 analytic: 2.738383, relative error: 3.706787e-08\n",
      "numerical: 0.966558 analytic: 0.966558, relative error: 1.572193e-08\n",
      "numerical: 0.442667 analytic: 0.442667, relative error: 6.895906e-08\n",
      "numerical: -1.727495 analytic: -1.727495, relative error: 8.796788e-09\n",
      "numerical: -0.443721 analytic: -0.443721, relative error: 1.677897e-09\n",
      "numerical: 0.951437 analytic: 0.951437, relative error: 1.293645e-08\n",
      "numerical: 1.061472 analytic: 1.061472, relative error: 1.758720e-08\n",
      "numerical: -1.098624 analytic: -1.098624, relative error: 1.932948e-08\n",
      "numerical: 3.343378 analytic: 3.343378, relative error: 1.908482e-08\n",
      "numerical: -0.979298 analytic: -0.979298, relative error: 4.722897e-09\n",
      "numerical: -2.613664 analytic: -2.613664, relative error: 3.304465e-09\n",
      "numerical: -1.848549 analytic: -1.848549, relative error: 1.896157e-08\n",
      "numerical: -2.768882 analytic: -2.768882, relative error: 4.363832e-09\n",
      "numerical: 0.061909 analytic: 0.061909, relative error: 3.312705e-07\n",
      "numerical: -0.566010 analytic: -0.566010, relative error: 2.894506e-08\n"
     ]
    }
   ],
   "source": [
    "# Complete the implementation of softmax_loss_naive and implement a (naive)\n",
    "# version of the gradient that uses nested loops.\n",
    "loss, grad = softmax_loss_naive(W, X_dev, y_dev, 0.0)\n",
    "\n",
    "# As we did for the SVM, use numeric gradient checking as a debugging tool.\n",
    "# The numeric gradient should be close to the analytic gradient.\n",
    "from cs231n.gradient_check import grad_check_sparse\n",
    "f = lambda w: softmax_loss_naive(w, X_dev, y_dev, 0.0)[0]\n",
    "grad_numerical = grad_check_sparse(f, W, grad, 10)\n",
    "\n",
    "# similar to SVM case, do another gradient check with regularization\n",
    "loss, grad = softmax_loss_naive(W, X_dev, y_dev, 5e1)\n",
    "f = lambda w: softmax_loss_naive(w, X_dev, y_dev, 5e1)[0]\n",
    "grad_numerical = grad_check_sparse(f, W, grad, 10)"
   ]
  },
  {
   "cell_type": "code",
   "execution_count": 140,
   "metadata": {},
   "outputs": [
    {
     "name": "stdout",
     "output_type": "stream",
     "text": [
      "naive loss: 2.382468e+00 computed in 0.081224s\n",
      "vectorized loss: 2.382468e+00 computed in 0.003731s\n",
      "Loss difference: 0.000000\n",
      "Gradient difference: 0.000000\n"
     ]
    }
   ],
   "source": [
    "# Now that we have a naive implementation of the softmax loss function and its gradient,\n",
    "# implement a vectorized version in softmax_loss_vectorized.\n",
    "# The two versions should compute the same results, but the vectorized version should be\n",
    "# much faster.\n",
    "tic = time.time()\n",
    "loss_naive, grad_naive = softmax_loss_naive(W, X_dev, y_dev, 0.000005)\n",
    "toc = time.time()\n",
    "print('naive loss: %e computed in %fs' % (loss_naive, toc - tic))\n",
    "\n",
    "from cs231n.classifiers.softmax import softmax_loss_vectorized\n",
    "tic = time.time()\n",
    "loss_vectorized, grad_vectorized = softmax_loss_vectorized(W, X_dev, y_dev, 0.000005)\n",
    "toc = time.time()\n",
    "print('vectorized loss: %e computed in %fs' % (loss_vectorized, toc - tic))\n",
    "\n",
    "# As we did for the SVM, we use the Frobenius norm to compare the two versions\n",
    "# of the gradient.\n",
    "grad_difference = np.linalg.norm(grad_naive - grad_vectorized, ord='fro')\n",
    "print('Loss difference: %f' % np.abs(loss_naive - loss_vectorized))\n",
    "print('Gradient difference: %f' % grad_difference)"
   ]
  },
  {
   "cell_type": "code",
   "execution_count": 142,
   "metadata": {},
   "outputs": [
    {
     "name": "stdout",
     "output_type": "stream",
     "text": [
      "Softmax number 1\n",
      "Softmax number 2\n",
      "Softmax number 3\n",
      "Softmax number 4\n",
      "Softmax number 5\n",
      "Softmax number 6\n",
      "Softmax number 7\n",
      "Softmax number 8\n",
      "Softmax number 9\n",
      "Softmax number 10\n",
      "Softmax number 11\n",
      "Softmax number 12\n",
      "Softmax number 13\n",
      "Softmax number 14\n",
      "Softmax number 15\n",
      "Softmax number 16\n",
      "Softmax number 17\n",
      "Softmax number 18\n",
      "Softmax number 19\n",
      "Softmax number 20\n",
      "Softmax number 21\n",
      "Softmax number 22\n",
      "Softmax number 23\n",
      "Softmax number 24\n",
      "Softmax number 25\n",
      "Softmax number 26\n",
      "Softmax number 27\n",
      "Softmax number 28\n",
      "Softmax number 29\n",
      "Softmax number 30\n",
      "Softmax number 31\n",
      "Softmax number 32\n",
      "Softmax number 33\n",
      "Softmax number 34\n",
      "Softmax number 35\n",
      "Softmax number 36\n",
      "Softmax number 37\n",
      "Softmax number 38\n",
      "Softmax number 39\n",
      "Softmax number 40\n",
      "Softmax number 41\n",
      "Softmax number 42\n",
      "Softmax number 43\n",
      "Softmax number 44\n",
      "Softmax number 45\n",
      "Softmax number 46\n",
      "Softmax number 47\n",
      "Softmax number 48\n",
      "Softmax number 49\n",
      "lr 3.162278e-08 reg 3.162278e+03 train accuracy: 0.199143 val accuracy: 0.212000\n",
      "lr 3.162278e-08 reg 6.812921e+03 train accuracy: 0.238531 val accuracy: 0.238000\n",
      "lr 3.162278e-08 reg 1.467799e+04 train accuracy: 0.267571 val accuracy: 0.288000\n",
      "lr 3.162278e-08 reg 3.162278e+04 train accuracy: 0.310000 val accuracy: 0.325000\n",
      "lr 3.162278e-08 reg 6.812921e+04 train accuracy: 0.298490 val accuracy: 0.318000\n",
      "lr 3.162278e-08 reg 1.467799e+05 train accuracy: 0.275796 val accuracy: 0.285000\n",
      "lr 3.162278e-08 reg 3.162278e+05 train accuracy: 0.260857 val accuracy: 0.271000\n",
      "lr 5.623413e-08 reg 3.162278e+03 train accuracy: 0.250082 val accuracy: 0.262000\n",
      "lr 5.623413e-08 reg 6.812921e+03 train accuracy: 0.287571 val accuracy: 0.285000\n",
      "lr 5.623413e-08 reg 1.467799e+04 train accuracy: 0.328102 val accuracy: 0.344000\n",
      "lr 5.623413e-08 reg 3.162278e+04 train accuracy: 0.317367 val accuracy: 0.327000\n",
      "lr 5.623413e-08 reg 6.812921e+04 train accuracy: 0.295041 val accuracy: 0.309000\n",
      "lr 5.623413e-08 reg 1.467799e+05 train accuracy: 0.278184 val accuracy: 0.287000\n",
      "lr 5.623413e-08 reg 3.162278e+05 train accuracy: 0.262041 val accuracy: 0.271000\n",
      "lr 1.000000e-07 reg 3.162278e+03 train accuracy: 0.307143 val accuracy: 0.298000\n",
      "lr 1.000000e-07 reg 6.812921e+03 train accuracy: 0.346531 val accuracy: 0.367000\n",
      "lr 1.000000e-07 reg 1.467799e+04 train accuracy: 0.345714 val accuracy: 0.357000\n",
      "lr 1.000000e-07 reg 3.162278e+04 train accuracy: 0.320020 val accuracy: 0.340000\n",
      "lr 1.000000e-07 reg 6.812921e+04 train accuracy: 0.298490 val accuracy: 0.320000\n",
      "lr 1.000000e-07 reg 1.467799e+05 train accuracy: 0.274306 val accuracy: 0.290000\n",
      "lr 1.000000e-07 reg 3.162278e+05 train accuracy: 0.273959 val accuracy: 0.289000\n",
      "lr 1.778279e-07 reg 3.162278e+03 train accuracy: 0.361245 val accuracy: 0.370000\n",
      "lr 1.778279e-07 reg 6.812921e+03 train accuracy: 0.364449 val accuracy: 0.385000\n",
      "lr 1.778279e-07 reg 1.467799e+04 train accuracy: 0.341612 val accuracy: 0.355000\n",
      "lr 1.778279e-07 reg 3.162278e+04 train accuracy: 0.321857 val accuracy: 0.336000\n",
      "lr 1.778279e-07 reg 6.812921e+04 train accuracy: 0.303755 val accuracy: 0.310000\n",
      "lr 1.778279e-07 reg 1.467799e+05 train accuracy: 0.288000 val accuracy: 0.304000\n",
      "lr 1.778279e-07 reg 3.162278e+05 train accuracy: 0.259061 val accuracy: 0.268000\n",
      "lr 3.162278e-07 reg 3.162278e+03 train accuracy: 0.383245 val accuracy: 0.397000\n",
      "lr 3.162278e-07 reg 6.812921e+03 train accuracy: 0.367347 val accuracy: 0.380000\n",
      "lr 3.162278e-07 reg 1.467799e+04 train accuracy: 0.347429 val accuracy: 0.362000\n",
      "lr 3.162278e-07 reg 3.162278e+04 train accuracy: 0.312878 val accuracy: 0.335000\n",
      "lr 3.162278e-07 reg 6.812921e+04 train accuracy: 0.303959 val accuracy: 0.312000\n",
      "lr 3.162278e-07 reg 1.467799e+05 train accuracy: 0.268347 val accuracy: 0.277000\n",
      "lr 3.162278e-07 reg 3.162278e+05 train accuracy: 0.259633 val accuracy: 0.268000\n",
      "lr 5.623413e-07 reg 3.162278e+03 train accuracy: 0.383367 val accuracy: 0.392000\n",
      "lr 5.623413e-07 reg 6.812921e+03 train accuracy: 0.361857 val accuracy: 0.376000\n",
      "lr 5.623413e-07 reg 1.467799e+04 train accuracy: 0.346429 val accuracy: 0.356000\n",
      "lr 5.623413e-07 reg 3.162278e+04 train accuracy: 0.313571 val accuracy: 0.317000\n",
      "lr 5.623413e-07 reg 6.812921e+04 train accuracy: 0.298408 val accuracy: 0.318000\n",
      "lr 5.623413e-07 reg 1.467799e+05 train accuracy: 0.272939 val accuracy: 0.287000\n",
      "lr 5.623413e-07 reg 3.162278e+05 train accuracy: 0.241224 val accuracy: 0.267000\n",
      "lr 1.000000e-06 reg 3.162278e+03 train accuracy: 0.369776 val accuracy: 0.386000\n",
      "lr 1.000000e-06 reg 6.812921e+03 train accuracy: 0.353184 val accuracy: 0.370000\n",
      "lr 1.000000e-06 reg 1.467799e+04 train accuracy: 0.345531 val accuracy: 0.341000\n",
      "lr 1.000000e-06 reg 3.162278e+04 train accuracy: 0.319653 val accuracy: 0.331000\n",
      "lr 1.000000e-06 reg 6.812921e+04 train accuracy: 0.284020 val accuracy: 0.298000\n",
      "lr 1.000000e-06 reg 1.467799e+05 train accuracy: 0.263673 val accuracy: 0.280000\n",
      "lr 1.000000e-06 reg 3.162278e+05 train accuracy: 0.216633 val accuracy: 0.222000\n",
      "best validation accuracy achieved during cross-validation: 0.397000\n"
     ]
    }
   ],
   "source": [
    "# Use the validation set to tune hyperparameters (regularization strength and\n",
    "# learning rate). You should experiment with different ranges for the learning\n",
    "# rates and regularization strengths; if you are careful you should be able to\n",
    "# get a classification accuracy of over 0.35 on the validation set.\n",
    "from cs231n.classifiers import Softmax\n",
    "results = {}\n",
    "best_val = -1\n",
    "best_softmax = None\n",
    "#learning_rates = [1e-7, 5e-7]\n",
    "#regularization_strengths = [2.5e4, 5e4]\n",
    "\n",
    "learning_rates = np.logspace(start = -7.5, stop = -6, num = 7, base = 10).tolist()\n",
    "regularization_strengths = np.logspace(start = 3.5, stop = 5.5, num = 7, base = 10).tolist()\n",
    "\n",
    "################################################################################\n",
    "# TODO:                                                                        #\n",
    "# Use the validation set to set the learning rate and regularization strength. #\n",
    "# This should be identical to the validation that you did for the SVM; save    #\n",
    "# the best trained softmax classifer in best_softmax.                          #\n",
    "################################################################################\n",
    "i = 0\n",
    "for lr in learning_rates:\n",
    "    for r in regularization_strengths:\n",
    "        softmax = Softmax()\n",
    "        loss_hist = softmax.train(X_train, y_train, learning_rate=lr, reg=r, num_iters=1500, verbose=False)\n",
    "        y_train_pred = softmax.predict(X_train)\n",
    "        y_val_pred = softmax.predict(X_val)\n",
    "        \n",
    "        train_acc = np.mean(y_train == y_train_pred)\n",
    "        val_acc = np.mean(y_val == y_val_pred)\n",
    "        \n",
    "        results[(lr, r)] = (train_acc, val_acc)\n",
    "        \n",
    "        if val_acc > best_val:\n",
    "            best_val = val_acc\n",
    "            best_softmax = softmax\n",
    "            \n",
    "        i += 1\n",
    "        print(\"Softmax number {}\".format(i))\n",
    "################################################################################\n",
    "#                              END OF YOUR CODE                                #\n",
    "################################################################################\n",
    "    \n",
    "# Print out results.\n",
    "for lr, reg in sorted(results):\n",
    "    train_accuracy, val_accuracy = results[(lr, reg)]\n",
    "    print('lr %e reg %e train accuracy: %f val accuracy: %f' % (\n",
    "                lr, reg, train_accuracy, val_accuracy))\n",
    "    \n",
    "print('best validation accuracy achieved during cross-validation: %f' % best_val)"
   ]
  },
  {
   "cell_type": "code",
   "execution_count": 143,
   "metadata": {},
   "outputs": [
    {
     "name": "stdout",
     "output_type": "stream",
     "text": [
      "softmax on raw pixels final test set accuracy: 0.375000\n"
     ]
    }
   ],
   "source": [
    "# evaluate on test set\n",
    "# Evaluate the best softmax on test set\n",
    "y_test_pred = best_softmax.predict(X_test)\n",
    "test_accuracy = np.mean(y_test == y_test_pred)\n",
    "print('softmax on raw pixels final test set accuracy: %f' % (test_accuracy, ))"
   ]
  },
  {
   "cell_type": "code",
   "execution_count": 144,
   "metadata": {},
   "outputs": [
    {
     "data": {
      "image/png": "[encoded data removed]",
      "text/plain": [
       "<Figure size 432x288 with 10 Axes>"
      ]
     },
     "metadata": {},
     "output_type": "display_data"
    }
   ],
   "source": [
    "# Visualize the learned weights for each class\n",
    "w = best_softmax.W[:-1,:] # strip out the bias\n",
    "w = w.reshape(32, 32, 3, 10)\n",
    "\n",
    "w_min, w_max = np.min(w), np.max(w)\n",
    "\n",
    "classes = ['plane', 'car', 'bird', 'cat', 'deer', 'dog', 'frog', 'horse', 'ship', 'truck']\n",
    "for i in range(10):\n",
    "    plt.subplot(2, 5, i + 1)\n",
    "    \n",
    "    # Rescale the weights to be between 0 and 255\n",
    "    wimg = 255.0 * (w[:, :, :, i].squeeze() - w_min) / (w_max - w_min)\n",
    "    plt.imshow(wimg.astype('uint8'))\n",
    "    plt.axis('off')\n",
    "    plt.title(classes[i])"
   ]
  }
 ],
 "metadata": {
  "kernelspec": {
   "display_name": "Python 2",
   "language": "python",
   "name": "python2"
  },
  "language_info": {
   "codemirror_mode": {
    "name": "ipython",
    "version": 2
   },
   "file_extension": ".py",
   "mimetype": "text/x-python",
   "name": "python",
   "nbconvert_exporter": "python",
   "pygments_lexer": "ipython2",
   "version": "2.7.10"
  }
 },
 "nbformat": 4,
 "nbformat_minor": 1
}
